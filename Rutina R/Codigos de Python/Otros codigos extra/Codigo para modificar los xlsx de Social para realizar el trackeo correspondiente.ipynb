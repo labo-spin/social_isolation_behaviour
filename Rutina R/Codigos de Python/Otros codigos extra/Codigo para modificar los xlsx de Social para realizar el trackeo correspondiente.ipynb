{
 "cells": [
  {
   "cell_type": "code",
   "execution_count": null,
   "id": "a77dc26f",
   "metadata": {},
   "outputs": [],
   "source": [
    "import os\n",
    "import pandas as pd\n",
    "\n",
    "# Directorio donde se encuentran los archivos\n",
    "directory = r'C:\\Users\\Usuario\\Desktop\\Prueba'\n",
    "\n",
    "# Función para reemplazar puntos por comas en los valores de un DataFrame\n",
    "def replace_dot_with_comma(df):\n",
    "    return df.applymap(lambda x: str(x).replace('.', ',') if isinstance(x, str) else x)\n",
    "\n",
    "# Iterar sobre todos los archivos en el directorio\n",
    "for filename in os.listdir(directory):\n",
    "    # Ignorar archivos temporales de Excel\n",
    "    if filename.endswith('.xlsx') and not filename.startswith('~$'):\n",
    "        file_path = os.path.join(directory, filename)\n",
    "        \n",
    "        # Cargar el archivo Excel\n",
    "        excel_data = pd.ExcelFile(file_path)\n",
    "\n",
    "        # Leer todas las hojas en un diccionario de DataFrames\n",
    "        sheets_dict = pd.read_excel(file_path, sheet_name=None)\n",
    "\n",
    "        # Aplicar la función a todas las hojas\n",
    "        sheets_dict_comma = {sheet: replace_dot_with_comma(data) for sheet, data in sheets_dict.items()}\n",
    "\n",
    "        # Copiar las columnas A, B, C, D, E, F y G de la primera hoja\n",
    "        first_sheet_name = excel_data.sheet_names[0]\n",
    "        first_sheet_data = sheets_dict_comma[first_sheet_name]\n",
    "        columns_to_copy = first_sheet_data.iloc[:, :7]  # Incluye columnas A (índice 0) a G (índice 6)\n",
    "\n",
    "        # Crear un DataFrame para la hoja \"Cálculos\" con las columnas copiadas\n",
    "        calculos_df = pd.DataFrame(columns_to_copy)\n",
    "\n",
    "        # Añadir la nueva hoja al diccionario\n",
    "        sheets_dict_comma[\"Cálculos\"] = calculos_df\n",
    "\n",
    "        # Añadir las nuevas hojas vacías al diccionario\n",
    "        sheets_dict_comma[\"5 min\"] = pd.DataFrame()\n",
    "        sheets_dict_comma[\"10 min\"] = pd.DataFrame()\n",
    "\n",
    "        # Guardar el nuevo archivo Excel reemplazando al original\n",
    "        with pd.ExcelWriter(file_path) as writer:\n",
    "            for sheet_name, df in sheets_dict_comma.items():\n",
    "                df.to_excel(writer, sheet_name=sheet_name, index=False)\n",
    "\n",
    "print('Todos los archivos han sido modificados y guardados.')"
   ]
  }
 ],
 "metadata": {
  "kernelspec": {
   "display_name": "Python 3 (ipykernel)",
   "language": "python",
   "name": "python3"
  },
  "language_info": {
   "codemirror_mode": {
    "name": "ipython",
    "version": 3
   },
   "file_extension": ".py",
   "mimetype": "text/x-python",
   "name": "python",
   "nbconvert_exporter": "python",
   "pygments_lexer": "ipython3",
   "version": "3.11.3"
  }
 },
 "nbformat": 4,
 "nbformat_minor": 5
}
