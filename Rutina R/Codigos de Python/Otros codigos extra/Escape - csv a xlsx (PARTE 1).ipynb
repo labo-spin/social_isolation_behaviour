{
 "cells": [
  {
   "cell_type": "code",
   "execution_count": null,
   "id": "4550f50f",
   "metadata": {
    "scrolled": true
   },
   "outputs": [],
   "source": [
    "import os\n",
    "import pandas as pd\n",
    "\n",
    "# Ruta a la carpeta que contiene los archivos CSV\n",
    "carpeta_csv = r'C:\\Users\\Usuario\\Desktop\\Analisis_Aislados'\n",
    "\n",
    "# Obtener lista de archivos CSV en la carpeta\n",
    "archivos_csv = [archivo for archivo in os.listdir(carpeta_csv) if archivo.endswith('.csv')]\n",
    "\n",
    "# Iterar sobre cada archivo CSV\n",
    "for archivo_csv in archivos_csv:\n",
    "    # Construir la ruta completa al archivo CSV\n",
    "    ruta_csv = os.path.join(carpeta_csv, archivo_csv)\n",
    "    \n",
    "    # Leer el archivo CSV en un DataFrame\n",
    "    df = pd.read_csv(ruta_csv)\n",
    "    \n",
    "    # Convertir a formato numérico (float) todas las filas por debajo de la fila 3 para todas las columnas\n",
    "    # Convertir a números desde la fila 4 en adelante (usamos iloc[3:] para cambiar la fila 4 de visualización)\n",
    "    for col in df.columns:\n",
    "        df[col].iloc[2:] = pd.to_numeric(df[col].iloc[2:], errors='coerce')  # Convertir texto a número solo desde la fila 4\n",
    "    \n",
    "    # Construir la ruta para guardar el archivo XLSX (en la misma carpeta)\n",
    "    nombre_xlsx = os.path.splitext(archivo_csv)[0] + '.xlsx'\n",
    "    ruta_xlsx = os.path.join(carpeta_csv, nombre_xlsx)\n",
    "    \n",
    "    # Guardar el DataFrame como archivo XLSX en la misma carpeta\n",
    "    df.to_excel(ruta_xlsx, index=False)\n",
    "    \n",
    "    print(f'Se ha convertido {archivo_csv} a {nombre_xlsx} en la misma carpeta')\n"
   ]
  }
 ],
 "metadata": {
  "kernelspec": {
   "display_name": "Python 3 (ipykernel)",
   "language": "python",
   "name": "python3"
  },
  "language_info": {
   "codemirror_mode": {
    "name": "ipython",
    "version": 3
   },
   "file_extension": ".py",
   "mimetype": "text/x-python",
   "name": "python",
   "nbconvert_exporter": "python",
   "pygments_lexer": "ipython3",
   "version": "3.11.3"
  }
 },
 "nbformat": 4,
 "nbformat_minor": 5
}
