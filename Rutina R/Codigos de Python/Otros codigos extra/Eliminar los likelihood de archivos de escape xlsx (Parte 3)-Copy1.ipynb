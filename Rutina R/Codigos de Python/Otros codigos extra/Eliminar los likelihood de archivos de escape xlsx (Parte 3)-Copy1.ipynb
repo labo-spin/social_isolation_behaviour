{
 "cells": [
  {
   "cell_type": "code",
   "execution_count": null,
   "id": "5b8d5a21",
   "metadata": {},
   "outputs": [],
   "source": [
    "import pandas as pd\n",
    "import os\n",
    "\n",
    "# Función para filtrar los archivos xlsx\n",
    "def filtrar_likelihood(ruta_archivos):\n",
    "    # Obtiene todos los archivos xlsx en la ruta especificada\n",
    "    archivos = [f for f in os.listdir(ruta_archivos) if f.endswith('.xlsx')]\n",
    "    \n",
    "    for archivo in archivos:\n",
    "        # Carga el archivo xlsx\n",
    "        df = pd.read_excel(os.path.join(ruta_archivos, archivo))\n",
    "        \n",
    "        # Conservar las primeras 3 filas\n",
    "        encabezado = df.iloc[:2]\n",
    "        \n",
    "        # Convertir las columnas D (índice 3), G (índice 6), J (índice 9), M (índice 12),\n",
    "        # P (índice 15), S (índice 18), V (índice 21), Y (índice 24), AB (índice 27),\n",
    "        # AE (índice 30) a numérico, forzando errores a NaN\n",
    "        columnas = [3, 6, 9, 12, 15, 18, 21, 24, 27, 30]\n",
    "        for col in columnas:\n",
    "            df.iloc[:, col] = pd.to_numeric(df.iloc[:, col], errors='coerce')\n",
    "        \n",
    "        # Filtra las filas donde los valores en las columnas D, G, J, M, P, S, V, Y, AB, y AE son mayores a 0.5\n",
    "        df_filtrado = df[\n",
    "            (df.iloc[:, 3] > 0.000001) & (df.iloc[:, 6] > 0.000001) & (df.iloc[:, 9] > 0.000001) &\n",
    "            (df.iloc[:, 12] > 0.000001) & (df.iloc[:, 15] > 0.000001) & (df.iloc[:, 18] > 0.000001) &\n",
    "            (df.iloc[:, 21] > 0.000001) & (df.iloc[:, 24] > 0.000001) & (df.iloc[:, 27] > 0.000001) &\n",
    "            (df.iloc[:, 30] > 0.000001)\n",
    "        ]\n",
    "        \n",
    "        # Combina las filas de encabezado con las filas filtradas\n",
    "        df_final = pd.concat([encabezado, df_filtrado], ignore_index=True)\n",
    "        \n",
    "        # Guarda el dataframe final en un nuevo archivo\n",
    "        nuevo_archivo = os.path.join(ruta_archivos, f\"filtrado_{archivo}\")\n",
    "        df_final.to_excel(nuevo_archivo, index=False)\n",
    "\n",
    "        print(f\"Archivo filtrado guardado como: {nuevo_archivo}\")\n",
    "\n",
    "# Llama a la función con la ruta donde están tus archivos\n",
    "carpeta_xlsx = r'C:\\Users\\Usuario\\Desktop\\Nuevo1'\n",
    "filtrar_likelihood(carpeta_xlsx)"
   ]
  }
 ],
 "metadata": {
  "kernelspec": {
   "display_name": "Python 3 (ipykernel)",
   "language": "python",
   "name": "python3"
  },
  "language_info": {
   "codemirror_mode": {
    "name": "ipython",
    "version": 3
   },
   "file_extension": ".py",
   "mimetype": "text/x-python",
   "name": "python",
   "nbconvert_exporter": "python",
   "pygments_lexer": "ipython3",
   "version": "3.11.3"
  }
 },
 "nbformat": 4,
 "nbformat_minor": 5
}
