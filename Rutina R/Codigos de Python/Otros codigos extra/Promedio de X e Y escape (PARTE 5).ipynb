{
 "cells": [
  {
   "cell_type": "code",
   "execution_count": null,
   "id": "9ca0841a",
   "metadata": {},
   "outputs": [],
   "source": [
    "import pandas as pd\n",
    "import os\n",
    "\n",
    "# Función para calcular promedios y agregar columnas\n",
    "def calcular_promedios(ruta_archivos):\n",
    "    # Obtiene todos los archivos xlsx en la ruta especificada\n",
    "    archivos = [f for f in os.listdir(ruta_archivos) if f.endswith('.xlsx')]\n",
    "    \n",
    "    for archivo in archivos:\n",
    "        # Carga el archivo xlsx\n",
    "        df = pd.read_excel(os.path.join(ruta_archivos, archivo))\n",
    "        \n",
    "        # Conservar las primeras 3 filas\n",
    "        encabezado = df.iloc[:3]\n",
    "        \n",
    "        # Calcular los promedios para las columnas I y J a partir de la fila 3\n",
    "        df.loc[2:, 'Promedio X'] = (df.iloc[2:, 1] + df.iloc[2:, 4]) / 2  # Promedio de B y E\n",
    "        df.loc[2:, 'Promedio Y'] = (df.iloc[2:, 2] + df.iloc[2:, 5]) / 2  # Promedio de C y F\n",
    "        \n",
    "        # Asignar los títulos en las celdas I3 y J3\n",
    "        df.iloc[1, df.columns.get_loc('Promedio X')] = 'Promedio X'\n",
    "        df.iloc[1, df.columns.get_loc('Promedio Y')] = 'Promedio Y'\n",
    "        \n",
    "        # Guardar el dataframe final en un nuevo archivo\n",
    "        nuevo_archivo = os.path.join(ruta_archivos, f\"promedios_{archivo}\")\n",
    "        df.to_excel(nuevo_archivo, index=False)\n",
    "\n",
    "        print(f\"Archivo con promedios guardado como: {nuevo_archivo}\")\n",
    "\n",
    "# Llama a la función con la ruta donde están tus archivos\n",
    "carpeta_xlsx = r'C:\\Users\\Usuario\\Desktop\\Prueba7'\n",
    "calcular_promedios(carpeta_xlsx)\n"
   ]
  }
 ],
 "metadata": {
  "kernelspec": {
   "display_name": "Python 3 (ipykernel)",
   "language": "python",
   "name": "python3"
  },
  "language_info": {
   "codemirror_mode": {
    "name": "ipython",
    "version": 3
   },
   "file_extension": ".py",
   "mimetype": "text/x-python",
   "name": "python",
   "nbconvert_exporter": "python",
   "pygments_lexer": "ipython3",
   "version": "3.11.3"
  }
 },
 "nbformat": 4,
 "nbformat_minor": 5
}
