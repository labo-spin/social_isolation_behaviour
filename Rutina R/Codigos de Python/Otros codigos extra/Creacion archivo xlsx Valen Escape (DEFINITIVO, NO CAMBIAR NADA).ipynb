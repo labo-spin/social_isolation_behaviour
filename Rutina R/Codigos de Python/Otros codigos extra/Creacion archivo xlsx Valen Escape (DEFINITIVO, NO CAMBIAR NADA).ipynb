{
 "cells": [
  {
   "cell_type": "code",
   "execution_count": 1,
   "id": "649ac859",
   "metadata": {},
   "outputs": [
    {
     "name": "stdout",
     "output_type": "stream",
     "text": [
      "Archivo guardado como C:\\Users\\Usuario\\Desktop\\Ordenar csv de escape-Valen\\Datos_Sociales1.xlsx\n"
     ]
    }
   ],
   "source": [
    "import os\n",
    "import re\n",
    "import pandas as pd\n",
    "\n",
    "# Dirección de la carpeta donde se encuentran los archivos CSV y donde se guardará el archivo Datos_Aislados.xlsx\n",
    "folder_path = \"C:\\\\Users\\\\Usuario\\\\Desktop\\\\Ordenar csv de escape-Valen\"\n",
    "file_path = os.path.join(folder_path, \"Datos_Sociales1.xlsx\")\n",
    "\n",
    "# Obtener una lista de todos los archivos CSV en la carpeta\n",
    "csv_files = [f for f in os.listdir(folder_path) if f.endswith('.csv')]\n",
    "\n",
    "# Función para extraer el número X del nombre del archivo\n",
    "def extract_number_x(file_name):\n",
    "    match = re.search(r'C(\\d+)_\\d+_S_E', file_name) #Para sociales poner \"_S_E\", para aislados poner \"_A_E\".\n",
    "    return int(match.group(1)) if match else float('inf')\n",
    "\n",
    "# Función para extraer el número Y del nombre del archivo\n",
    "def extract_number_y(file_name):\n",
    "    match = re.search(r'C\\d+_(\\d+)_S_E', file_name) #Para sociales poner \"_S_E\", para aislados poner \"_A_E\".\n",
    "    return int(match.group(1)) if match else float('inf')\n",
    "\n",
    "# Función para extraer la opción dentro del paréntesis\n",
    "def extract_option(file_name):\n",
    "    match = re.search(r'\\(([^)]+)\\)', file_name)\n",
    "    return match.group(1) if match else \"\"\n",
    "\n",
    "# Lista de orden personalizado para las opciones dentro del paréntesis\n",
    "order_options = [\n",
    "    \"230-0\",\n",
    "    \"160-0\",\n",
    "    \"255-0.02\",\n",
    "    \"230-0.02\",\n",
    "    \"160-0.02\",\n",
    "    \"255-0.04\",\n",
    "    \"230-0.04\",\n",
    "    \"160-0.04\"\n",
    "]\n",
    "\n",
    "# Diccionario para convertir las opciones a valores ordenables\n",
    "order_dict = {key: index for index, key in enumerate(order_options)}\n",
    "\n",
    "# Función de clave para ordenar los archivos CSV\n",
    "def sort_key(file_name):\n",
    "    x_value = extract_number_x(file_name)\n",
    "    y_value = extract_number_y(file_name)\n",
    "    option = extract_option(file_name)\n",
    "    order_index = order_dict.get(option, float('inf'))\n",
    "    return (x_value, y_value, order_index)\n",
    "\n",
    "# Ordenar la lista de archivos CSV utilizando la clave de ordenación\n",
    "csv_files_sorted = sorted(csv_files, key=sort_key)\n",
    "\n",
    "# Crear un DataFrame con los nombres de los archivos CSV ordenados en la columna \"Video\"\n",
    "df = pd.DataFrame({\"Video\": csv_files_sorted})\n",
    "\n",
    "# Agregar las columnas adicionales \"Visual\", \"Auditivo\" y \"F_escape\" vacías\n",
    "df[\"Visual\"] = \"\"\n",
    "df[\"Auditivo\"] = \"\"\n",
    "df[\"F_escape\"] = \"\"\n",
    "\n",
    "# Guardar el DataFrame en un archivo Excel llamado \"Datos_Aislados.xlsx\"\n",
    "df.to_excel(file_path, index=False)\n",
    "\n",
    "print(f\"Archivo guardado como {file_path}\")\n"
   ]
  }
 ],
 "metadata": {
  "kernelspec": {
   "display_name": "Python 3 (ipykernel)",
   "language": "python",
   "name": "python3"
  },
  "language_info": {
   "codemirror_mode": {
    "name": "ipython",
    "version": 3
   },
   "file_extension": ".py",
   "mimetype": "text/x-python",
   "name": "python",
   "nbconvert_exporter": "python",
   "pygments_lexer": "ipython3",
   "version": "3.11.3"
  }
 },
 "nbformat": 4,
 "nbformat_minor": 5
}
