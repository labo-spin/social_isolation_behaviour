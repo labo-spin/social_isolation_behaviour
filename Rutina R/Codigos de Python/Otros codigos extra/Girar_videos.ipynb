{
 "cells": [
  {
   "cell_type": "code",
   "execution_count": 1,
   "id": "e6930fb4",
   "metadata": {},
   "outputs": [
    {
     "name": "stdout",
     "output_type": "stream",
     "text": [
      "Video CN_23_A_S_090724.mp4 rotado 180° y guardado en C:/Users/Usuario/Desktop/Videos a girar\\rotated_CN_23_A_S_090724.mp4\n"
     ]
    }
   ],
   "source": [
    "import os\n",
    "import cv2\n",
    "\n",
    "def rotate_video_in_folder(input_folder):\n",
    "    # Lista todos los archivos en la carpeta de entrada\n",
    "    video_files = [f for f in os.listdir(input_folder) if f.endswith(('.mp4', '.avi', '.mkv'))]\n",
    "\n",
    "    # Itera sobre cada archivo de video en la carpeta de entrada\n",
    "    for video_file in video_files:\n",
    "        input_path = os.path.join(input_folder, video_file)\n",
    "        output_path = os.path.join(input_folder, f\"rotated_{video_file}\")\n",
    "\n",
    "        # Abre el archivo de video\n",
    "        cap = cv2.VideoCapture(input_path)\n",
    "\n",
    "        # Obtiene la información del video (ancho, alto, fps, etc.)\n",
    "        width = int(cap.get(3))\n",
    "        height = int(cap.get(4))\n",
    "        fps = cap.get(5)\n",
    "\n",
    "        # Crea el objeto VideoWriter para escribir el video de salida\n",
    "        fourcc = cv2.VideoWriter_fourcc(*'mp4v')  # Puedes cambiar 'mp4v' al códec que prefieras\n",
    "        out = cv2.VideoWriter(output_path, fourcc, fps, (width, height))\n",
    "\n",
    "        # Lee cada cuadro, lo rota 180° y lo escribe en el nuevo video\n",
    "        while cap.isOpened():\n",
    "            ret, frame = cap.read()\n",
    "            if not ret:\n",
    "                break\n",
    "\n",
    "            # Rota el cuadro 180°\n",
    "            rotated_frame = cv2.rotate(frame, cv2.ROTATE_180)\n",
    "\n",
    "            # Escribe el cuadro en el nuevo video\n",
    "            out.write(rotated_frame)\n",
    "\n",
    "        # Libera los recursos\n",
    "        cap.release()\n",
    "        out.release()\n",
    "\n",
    "        print(f\"Video {video_file} rotado 180° y guardado en {output_path}\")\n",
    "\n",
    "# Especifica la carpeta de entrada\n",
    "input_folder = 'C:/Users/Usuario/Desktop/Videos a girar'\n",
    "\n",
    "# Llama a la función para rotar todos los videos en la carpeta\n",
    "rotate_video_in_folder(input_folder)\n"
   ]
  }
 ],
 "metadata": {
  "kernelspec": {
   "display_name": "Python 3 (ipykernel)",
   "language": "python",
   "name": "python3"
  },
  "language_info": {
   "codemirror_mode": {
    "name": "ipython",
    "version": 3
   },
   "file_extension": ".py",
   "mimetype": "text/x-python",
   "name": "python",
   "nbconvert_exporter": "python",
   "pygments_lexer": "ipython3",
   "version": "3.11.3"
  }
 },
 "nbformat": 4,
 "nbformat_minor": 5
}
