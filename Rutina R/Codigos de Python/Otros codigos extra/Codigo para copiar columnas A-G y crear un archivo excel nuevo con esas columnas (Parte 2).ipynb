{
 "cells": [
  {
   "cell_type": "code",
   "execution_count": null,
   "id": "9042116c",
   "metadata": {},
   "outputs": [],
   "source": [
    "import os\n",
    "import pandas as pd\n",
    "\n",
    "# Ruta a la carpeta que contiene los archivos XLSX\n",
    "carpeta_xlsx = r'C:\\Users\\Usuario\\Desktop\\Prueba5'\n",
    "\n",
    "# Obtener lista de archivos XLSX en la carpeta\n",
    "archivos_xlsx = [archivo for archivo in os.listdir(carpeta_xlsx) if archivo.endswith('.xlsx')]\n",
    "\n",
    "# Iterar sobre cada archivo XLSX\n",
    "for archivo_xlsx in archivos_xlsx:\n",
    "    # Construir la ruta completa al archivo XLSX\n",
    "    ruta_xlsx = os.path.join(carpeta_xlsx, archivo_xlsx)\n",
    "    \n",
    "    # Leer el archivo XLSX en un DataFrame\n",
    "    df = pd.read_excel(ruta_xlsx)\n",
    "    \n",
    "    # Copiar las columnas de A a G (las primeras 7 columnas: 0 a 6 en el índice de pandas)\n",
    "    columnas_a_g = df.iloc[:, :7]  # Seleccionar columnas desde la 0 a la 6\n",
    "    \n",
    "    # Construir la ruta para el nuevo archivo XLSX con las columnas seleccionadas\n",
    "    nombre_nuevo_xlsx = os.path.splitext(archivo_xlsx)[0] + '_A_G.xlsx'\n",
    "    ruta_nuevo_xlsx = os.path.join(carpeta_xlsx, nombre_nuevo_xlsx)\n",
    "    \n",
    "    # Guardar las columnas seleccionadas en un nuevo archivo XLSX\n",
    "    columnas_a_g.to_excel(ruta_nuevo_xlsx, index=False)\n",
    "    \n",
    "    print(f'Se han copiado las columnas de {archivo_xlsx} a {nombre_nuevo_xlsx}')\n"
   ]
  }
 ],
 "metadata": {
  "kernelspec": {
   "display_name": "Python 3 (ipykernel)",
   "language": "python",
   "name": "python3"
  },
  "language_info": {
   "codemirror_mode": {
    "name": "ipython",
    "version": 3
   },
   "file_extension": ".py",
   "mimetype": "text/x-python",
   "name": "python",
   "nbconvert_exporter": "python",
   "pygments_lexer": "ipython3",
   "version": "3.11.3"
  }
 },
 "nbformat": 4,
 "nbformat_minor": 5
}
