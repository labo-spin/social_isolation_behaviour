{
 "cells": [
  {
   "cell_type": "code",
   "execution_count": null,
   "id": "6c007f36-af41-4084-b5c6-bd7e8b617077",
   "metadata": {
    "scrolled": true
   },
   "outputs": [],
   "source": [
    "\n",
    "############################## ESTE CODIGO ES PARA QUE LOS PROMEDIOS DE LAS VARIABLES SE PONGAN EN UNA HOJA NUEVA LLAMADA \"PROMEDIOS\" ###############\n",
    "\n",
    "import os\n",
    "import pandas as pd\n",
    "\n",
    "# Definir la carpeta que contiene los archivos Excel\n",
    "input_folder = r'C:\\Users\\Dell\\Desktop\\Prueba11'\n",
    "\n",
    "# Iterar sobre todos los archivos en la carpeta\n",
    "for filename in os.listdir(input_folder):\n",
    "    if filename.endswith('.xlsx'):\n",
    "        archivo = os.path.join(input_folder, filename)\n",
    "        \n",
    "        try:\n",
    "            # Leer el archivo Excel\n",
    "            df = pd.read_excel(archivo, sheet_name=0)  # Leer la primera hoja\n",
    "            \n",
    "            # Seleccionar columnas desde la 81 hasta la 98 (CC a CT)\n",
    "            columns_to_extract = df.iloc[:, 80:98]  # Recuerda que iloc es 0-indexed\n",
    "            \n",
    "            # Crear una lista para almacenar las filas de los promedios\n",
    "            promedios_data = []\n",
    "\n",
    "            # Obtener los títulos de las columnas y sus valores\n",
    "            for col in columns_to_extract.columns:\n",
    "                # Filtrar valores no nulos y tomar el primero\n",
    "                valor = columns_to_extract[col].dropna().iloc[0] if not columns_to_extract[col].dropna().empty else None\n",
    "                promedios_data.append({'Variable': col, 'Valor': valor})\n",
    "\n",
    "            # Crear un DataFrame a partir de la lista\n",
    "            promedios_df = pd.DataFrame(promedios_data)\n",
    "\n",
    "            # Guardar los resultados en una nueva hoja del archivo Excel\n",
    "            with pd.ExcelWriter(archivo, mode='a', engine='openpyxl') as writer:\n",
    "                promedios_df.to_excel(writer, sheet_name='Promedios', index=False)\n",
    "\n",
    "            # Mostrar mensaje de éxito para cada archivo modificado\n",
    "            print(f\"Archivo modificado guardado: {archivo}\")\n",
    "        \n",
    "        except Exception as e:\n",
    "            print(f\"Error procesando el archivo {filename}: {e}\")\n"
   ]
  }
 ],
 "metadata": {
  "kernelspec": {
   "display_name": "Python 3 (ipykernel)",
   "language": "python",
   "name": "python3"
  },
  "language_info": {
   "codemirror_mode": {
    "name": "ipython",
    "version": 3
   },
   "file_extension": ".py",
   "mimetype": "text/x-python",
   "name": "python",
   "nbconvert_exporter": "python",
   "pygments_lexer": "ipython3",
   "version": "3.11.7"
  }
 },
 "nbformat": 4,
 "nbformat_minor": 5
}
