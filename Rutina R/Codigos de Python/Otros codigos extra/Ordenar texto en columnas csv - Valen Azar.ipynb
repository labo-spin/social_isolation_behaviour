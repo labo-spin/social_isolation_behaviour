{
 "cells": [
  {
   "cell_type": "code",
   "execution_count": 1,
   "id": "f178751b",
   "metadata": {},
   "outputs": [
    {
     "name": "stdout",
     "output_type": "stream",
     "text": [
      "Se ha convertido C1_1_S_E(160-0)_11032022DLC_resnet50_Arena Escape ActualizadaApr22shuffle1_300000.csv a C1_1_S_E(160-0)_11032022DLC_resnet50_Arena Escape ActualizadaApr22shuffle1_300000.xlsx en la misma carpeta\n"
     ]
    }
   ],
   "source": [
    "import os\n",
    "import pandas as pd\n",
    "\n",
    "# Ruta a la carpeta que contiene los archivos CSV\n",
    "carpeta_csv = r'C:\\Users\\Usuario\\Desktop\\Prueba4'\n",
    "\n",
    "# Obtener lista de archivos CSV en la carpeta\n",
    "archivos_csv = [archivo for archivo in os.listdir(carpeta_csv) if archivo.endswith('.csv')]\n",
    "\n",
    "# Iterar sobre cada archivo CSV\n",
    "for archivo_csv in archivos_csv:\n",
    "    # Construir la ruta completa al archivo CSV\n",
    "    ruta_csv = os.path.join(carpeta_csv, archivo_csv)\n",
    "    \n",
    "    # Leer el archivo CSV en un DataFrame\n",
    "    df = pd.read_csv(ruta_csv)\n",
    "    \n",
    "    # Construir la ruta para guardar el archivo XLSX (en la misma carpeta)\n",
    "    nombre_xlsx = os.path.splitext(archivo_csv)[0] + '.xlsx'\n",
    "    ruta_xlsx = os.path.join(carpeta_csv, nombre_xlsx)\n",
    "    \n",
    "    # Guardar el DataFrame como archivo XLSX en la misma carpeta\n",
    "    df.to_excel(ruta_xlsx, index=False)\n",
    "    \n",
    "    print(f'Se ha convertido {archivo_csv} a {nombre_xlsx} en la misma carpeta')\n"
   ]
  }
 ],
 "metadata": {
  "kernelspec": {
   "display_name": "Python 3 (ipykernel)",
   "language": "python",
   "name": "python3"
  },
  "language_info": {
   "codemirror_mode": {
    "name": "ipython",
    "version": 3
   },
   "file_extension": ".py",
   "mimetype": "text/x-python",
   "name": "python",
   "nbconvert_exporter": "python",
   "pygments_lexer": "ipython3",
   "version": "3.11.3"
  }
 },
 "nbformat": 4,
 "nbformat_minor": 5
}
