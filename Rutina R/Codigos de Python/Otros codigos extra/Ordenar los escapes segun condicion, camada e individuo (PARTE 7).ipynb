{
 "cells": [
  {
   "cell_type": "code",
   "execution_count": 8,
   "id": "9aaf4a00",
   "metadata": {},
   "outputs": [
    {
     "name": "stdout",
     "output_type": "stream",
     "text": [
      "Archivos ordenados:\n",
      "Archivo: diferencias_promedios_filtrado_C2_1_A_E(255-0.02)DLC_resnet50_Arena Escape ActualizadaApr22shuffle1_300000_A_G.xlsx, T: A, X: 2, YYYY: 1\n",
      "Archivo: diferencias_promedios_filtrado_C2_1_A_E(255-0.04)DLC_resnet50_Arena Escape ActualizadaApr22shuffle1_300000_A_G.xlsx, T: A, X: 2, YYYY: 1\n",
      "Archivo: diferencias_promedios_filtrado_C2_2_A_E(255-0.02)DLC_resnet50_Arena Escape ActualizadaApr22shuffle1_300000_A_G.xlsx, T: A, X: 2, YYYY: 2\n",
      "Archivo: diferencias_promedios_filtrado_C2_2_A_E(255-0.04)DLC_resnet50_Arena Escape ActualizadaApr22shuffle1_300000_A_G.xlsx, T: A, X: 2, YYYY: 2\n",
      "Archivo: diferencias_promedios_filtrado_C2_3_A_E(255-0.02)DLC_resnet50_Arena Escape ActualizadaApr22shuffle1_300000_A_G.xlsx, T: A, X: 2, YYYY: 3\n",
      "Archivo: diferencias_promedios_filtrado_C2_3_A_E(255-0.04)DLC_resnet50_Arena Escape ActualizadaApr22shuffle1_300000_A_G.xlsx, T: A, X: 2, YYYY: 3\n",
      "Archivo: diferencias_promedios_filtrado_C1_9_S_E(255-0.02)_11082022DLC_resnet50_Arena Escape ActualizadaApr22shuffle1_300000_A_G.xlsx, T: S, X: 1, YYYY: 9\n",
      "Archivo: diferencias_promedios_filtrado_C1_9_S_E(255-0.04)_11082022DLC_resnet50_Arena Escape ActualizadaApr22shuffle1_300000_A_G.xlsx, T: S, X: 1, YYYY: 9\n",
      "Archivo: diferencias_promedios_filtrado_C1_10_S_E(255-0.02)_11082022DLC_resnet50_Arena Escape ActualizadaApr22shuffle1_300000_A_G.xlsx, T: S, X: 1, YYYY: 10\n",
      "Archivo: diferencias_promedios_filtrado_C1_10_S_E(255-0.04)_11082022DLC_resnet50_Arena Escape ActualizadaApr22shuffle1_300000_A_G.xlsx, T: S, X: 1, YYYY: 10\n",
      "Archivo: diferencias_promedios_filtrado_C1_11_S_E(255-0.02)_11172022DLC_resnet50_Arena Escape ActualizadaApr22shuffle1_300000_A_G.xlsx, T: S, X: 1, YYYY: 11\n",
      "Archivo: diferencias_promedios_filtrado_C1_11_S_E(255-0.02)_11222022DLC_resnet50_Arena Escape ActualizadaApr22shuffle1_300000_A_G.xlsx, T: S, X: 1, YYYY: 11\n",
      "Archivo: diferencias_promedios_filtrado_C1_11_S_E(255-0.04)_11172022DLC_resnet50_Arena Escape ActualizadaApr22shuffle1_300000_A_G.xlsx, T: S, X: 1, YYYY: 11\n",
      "Archivo: diferencias_promedios_filtrado_C1_12_S_E(255-0.02)_11172022DLC_resnet50_Arena Escape ActualizadaApr22shuffle1_300000_A_G.xlsx, T: S, X: 1, YYYY: 12\n",
      "Archivo: diferencias_promedios_filtrado_C1_12_S_E(255-0.04)_11172022DLC_resnet50_Arena Escape ActualizadaApr22shuffle1_300000_A_G.xlsx, T: S, X: 1, YYYY: 12\n",
      "Archivo: diferencias_promedios_filtrado_C1_13_S_E(255-0.02)_11172022DLC_resnet50_Arena Escape ActualizadaApr22shuffle1_300000_A_G.xlsx, T: S, X: 1, YYYY: 13\n",
      "Archivo: diferencias_promedios_filtrado_C1_13_S_E(255-0.04)_11172022DLC_resnet50_Arena Escape ActualizadaApr22shuffle1_300000_A_G.xlsx, T: S, X: 1, YYYY: 13\n",
      "Archivo: diferencias_promedios_filtrado_C1_14_S_E(255-0.02)_11172022DLC_resnet50_Arena Escape ActualizadaApr22shuffle1_300000_A_G.xlsx, T: S, X: 1, YYYY: 14\n",
      "Archivo: diferencias_promedios_filtrado_C1_14_S_E(255-0.04)_11172022DLC_resnet50_Arena Escape ActualizadaApr22shuffle1_300000_A_G.xlsx, T: S, X: 1, YYYY: 14\n",
      "Archivo: diferencias_promedios_filtrado_C2_1_S_E(255-0.02)DLC_resnet50_Arena Escape ActualizadaApr22shuffle1_300000_A_G.xlsx, T: S, X: 2, YYYY: 1\n",
      "Archivo: diferencias_promedios_filtrado_C2_1_S_E(255-0.04)DLC_resnet50_Arena Escape ActualizadaApr22shuffle1_300000_A_G.xlsx, T: S, X: 2, YYYY: 1\n",
      "Archivo: diferencias_promedios_filtrado_C2_2_S_E(255-0.02)DLC_resnet50_Arena Escape ActualizadaApr22shuffle1_300000_A_G.xlsx, T: S, X: 2, YYYY: 2\n",
      "Archivo: diferencias_promedios_filtrado_C2_2_S_E(255-0.04)DLC_resnet50_Arena Escape ActualizadaApr22shuffle1_300000_A_G.xlsx, T: S, X: 2, YYYY: 2\n"
     ]
    }
   ],
   "source": [
    "import os\n",
    "import re\n",
    "\n",
    "# Función para ordenar los archivos según las reglas\n",
    "def ordenar_archivos_por_criterios(ruta_archivos):\n",
    "    # Listar todos los archivos en la carpeta que comienzan con 'diferencias_promedios_filtrado_'\n",
    "    archivos = [f for f in os.listdir(ruta_archivos) if f.startswith('diferencias_promedios_filtrado_') and f.endswith('.xlsx')]\n",
    "    \n",
    "    # Si no hay archivos, avisamos\n",
    "    if not archivos:\n",
    "        print(\"No se encontraron archivos que coincidan con el prefijo 'diferencias_promedios_filtrado_'\")\n",
    "        return\n",
    "    \n",
    "    # Definir una expresión regular para capturar CX_YYYY_T_E del nombre del archivo\n",
    "    regex = r'diferencias_promedios_filtrado_C(\\d+)_(\\d+)_(A|S)_E'\n",
    "    \n",
    "    # Crear una lista para almacenar tuplas de (nombre_archivo, T, X, YYYY)\n",
    "    archivos_procesados = []\n",
    "    \n",
    "    for archivo in archivos:\n",
    "        # Buscar el patrón en el nombre del archivo\n",
    "        coincidencia = re.search(regex, archivo)\n",
    "        \n",
    "        if coincidencia:\n",
    "            X = int(coincidencia.group(1))  # Extrae X como entero\n",
    "            YYYY = int(coincidencia.group(2))  # Extrae YYYY como entero (lo que antes llamábamos B)\n",
    "            T = coincidencia.group(3)  # Extrae T como 'A' o 'S'\n",
    "            \n",
    "            # Almacenar el archivo con sus criterios de orden\n",
    "            archivos_procesados.append((archivo, T, X, YYYY))\n",
    "        else:\n",
    "            print(f\"No se pudo extraer el patrón del archivo: {archivo}\")\n",
    "\n",
    "    # Si no se procesaron archivos correctamente, avisamos\n",
    "    if not archivos_procesados:\n",
    "        print(\"No se encontraron archivos que coincidan con el patrón CX_YYYY_T_E\")\n",
    "        return\n",
    "\n",
    "    # Ordenar primero por T ('A' antes que 'S'), luego por X, y luego por YYYY (lo que antes era B)\n",
    "    archivos_ordenados = sorted(archivos_procesados, key=lambda x: (x[1], x[2], x[3]))\n",
    "    \n",
    "    # Imprimir los archivos ordenados\n",
    "    print(\"Archivos ordenados:\")\n",
    "    for archivo, T, X, YYYY in archivos_ordenados:\n",
    "        print(f\"Archivo: {archivo}, T: {T}, X: {X}, YYYY: {YYYY}\")\n",
    "\n",
    "# Llama a la función con la ruta donde están tus archivos\n",
    "carpeta_xlsx = r'C:\\Users\\Usuario\\Desktop\\Prueba9'\n",
    "ordenar_archivos_por_criterios(carpeta_xlsx)\n",
    "\n"
   ]
  }
 ],
 "metadata": {
  "kernelspec": {
   "display_name": "Python 3 (ipykernel)",
   "language": "python",
   "name": "python3"
  },
  "language_info": {
   "codemirror_mode": {
    "name": "ipython",
    "version": 3
   },
   "file_extension": ".py",
   "mimetype": "text/x-python",
   "name": "python",
   "nbconvert_exporter": "python",
   "pygments_lexer": "ipython3",
   "version": "3.11.3"
  }
 },
 "nbformat": 4,
 "nbformat_minor": 5
}
