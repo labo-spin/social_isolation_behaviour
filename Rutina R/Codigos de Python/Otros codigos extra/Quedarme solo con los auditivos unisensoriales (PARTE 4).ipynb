{
 "cells": [
  {
   "cell_type": "code",
   "execution_count": null,
   "id": "68925efb",
   "metadata": {},
   "outputs": [],
   "source": [
    "import os\n",
    "import re\n",
    "\n",
    "# Ruta a la carpeta que contiene los archivos XLSX\n",
    "carpeta_xlsx = r'C:\\Users\\Usuario\\Desktop\\Prueba9'\n",
    "\n",
    "# Obtener lista de archivos en la carpeta\n",
    "archivos = [archivo for archivo in os.listdir(carpeta_xlsx) if archivo.endswith('.xlsx')]\n",
    "\n",
    "# Expresión regular para encontrar archivos que coincidan con el patrón \"filtrado_CX_X_T_E(230-Z)\" o \"filtrado_CX_X_T_E(160-Z)\"\n",
    "# Ignora los valores de X y T, pero captura Y (230 o 160) y Z (0, 0.02 o 0.04)\n",
    "patron = re.compile(r'filtrado_C\\d+_\\d+_[AS]_E\\((230|160)-(0|0\\.02|0\\.04)\\)')\n",
    "\n",
    "# Iterar sobre los archivos y eliminar aquellos que coincidan con el patrón\n",
    "for archivo in archivos:\n",
    "    if patron.search(archivo):\n",
    "        # Construir la ruta completa del archivo\n",
    "        ruta_archivo = os.path.join(carpeta_xlsx, archivo)\n",
    "        \n",
    "        # Eliminar el archivo\n",
    "        os.remove(ruta_archivo)\n",
    "        \n",
    "        print(f'Se ha eliminado el archivo: {archivo}')\n",
    "\n",
    "print(\"Proceso completado.\")\n"
   ]
  }
 ],
 "metadata": {
  "kernelspec": {
   "display_name": "Python 3 (ipykernel)",
   "language": "python",
   "name": "python3"
  },
  "language_info": {
   "codemirror_mode": {
    "name": "ipython",
    "version": 3
   },
   "file_extension": ".py",
   "mimetype": "text/x-python",
   "name": "python",
   "nbconvert_exporter": "python",
   "pygments_lexer": "ipython3",
   "version": "3.11.3"
  }
 },
 "nbformat": 4,
 "nbformat_minor": 5
}
