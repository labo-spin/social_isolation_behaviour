{
 "cells": [
  {
   "cell_type": "code",
   "execution_count": null,
   "id": "5b8d5a21",
   "metadata": {},
   "outputs": [],
   "source": [
    "import pandas as pd\n",
    "import os\n",
    "\n",
    "# Función para filtrar los archivos xlsx\n",
    "def filtrar_likelihood(ruta_archivos):\n",
    "    # Obtiene todos los archivos xlsx en la ruta especificada\n",
    "    archivos = [f for f in os.listdir(ruta_archivos) if f.endswith('.xlsx')]\n",
    "    \n",
    "    for archivo in archivos:\n",
    "        # Carga el archivo xlsx\n",
    "        df = pd.read_excel(os.path.join(ruta_archivos, archivo))\n",
    "        \n",
    "        # Conservar las primeras 3 filas\n",
    "        encabezado = df.iloc[:3]\n",
    "        \n",
    "        # Convertir las columnas D (índice 3) y G (índice 6) a numérico, forzando errores a NaN\n",
    "        df.iloc[:, 3] = pd.to_numeric(df.iloc[:, 3], errors='coerce')\n",
    "        df.iloc[:, 6] = pd.to_numeric(df.iloc[:, 6], errors='coerce')\n",
    "        \n",
    "        # Filtra las filas donde los valores en las columnas D y G son mayores a 0.5\n",
    "        df_filtrado = df[(df.iloc[:, 3] > 0.5) & (df.iloc[:, 6] > 0.5)]\n",
    "        \n",
    "        # Combina las filas de encabezado con las filas filtradas\n",
    "        df_final = pd.concat([encabezado, df_filtrado], ignore_index=True)\n",
    "        \n",
    "        # Guarda el dataframe final en un nuevo archivo\n",
    "        nuevo_archivo = os.path.join(ruta_archivos, f\"filtrado_{archivo}\")\n",
    "        df_final.to_excel(nuevo_archivo, index=False)\n",
    "\n",
    "        print(f\"Archivo filtrado guardado como: {nuevo_archivo}\")\n",
    "\n",
    "# Llama a la función con la ruta donde están tus archivos\n",
    "carpeta_xlsx = r'C:\\Users\\Usuario\\Desktop\\Prueba4'\n",
    "filtrar_likelihood(carpeta_xlsx)\n"
   ]
  }
 ],
 "metadata": {
  "kernelspec": {
   "display_name": "Python 3 (ipykernel)",
   "language": "python",
   "name": "python3"
  },
  "language_info": {
   "codemirror_mode": {
    "name": "ipython",
    "version": 3
   },
   "file_extension": ".py",
   "mimetype": "text/x-python",
   "name": "python",
   "nbconvert_exporter": "python",
   "pygments_lexer": "ipython3",
   "version": "3.11.3"
  }
 },
 "nbformat": 4,
 "nbformat_minor": 5
}
