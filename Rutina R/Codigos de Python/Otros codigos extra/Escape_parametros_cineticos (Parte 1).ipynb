{
 "cells": [
  {
   "cell_type": "code",
   "execution_count": null,
   "id": "4eaf43b3",
   "metadata": {},
   "outputs": [],
   "source": [
    "pip install pandas numpy openpyxl"
   ]
  },
  {
   "cell_type": "code",
   "execution_count": null,
   "id": "b794fc74",
   "metadata": {
    "scrolled": true
   },
   "outputs": [],
   "source": [
    "#### ESTE ARCHIVO COMBINA LAS FILAS 1 Y 2, Y LAS PONE EN LA FILA 0 (O SEA LA PRIMERA) - SOLO PARA PONER BIEN LOS TITULOS ###\n",
    "\n",
    "import pandas as pd\n",
    "import os\n",
    "\n",
    "# Especificar la ruta de la carpeta que contiene los archivos Excel\n",
    "input_folder = r'C:\\Users\\Usuario\\Desktop\\Nuevo2'\n",
    "output_folder = r'C:\\Users\\Usuario\\Desktop\\Nuevo2'\n",
    "\n",
    "# Crear la carpeta de salida si no existe\n",
    "os.makedirs(output_folder, exist_ok=True)\n",
    "\n",
    "# Iterar sobre todos los archivos en la carpeta\n",
    "for filename in os.listdir(input_folder):\n",
    "    if filename.endswith('.xlsx'):\n",
    "        file_path = os.path.join(input_folder, filename)\n",
    "        output_path = os.path.join(output_folder, f'modified_{filename}')\n",
    "        \n",
    "        # Cargar el archivo Excel original y combinar las filas 2 y 3 como encabezados\n",
    "        xls = pd.ExcelFile(file_path)\n",
    "        df = pd.read_excel(xls, sheet_name=xls.sheet_names[0], header=[1, 2])\n",
    "\n",
    "        # Aplanar el MultiIndex para las columnas\n",
    "        df.columns = ['_'.join(col).strip() for col in df.columns.values]\n",
    "\n",
    "        # Convertir columnas numéricas a tipo numérico si es necesario\n",
    "        numeric_columns = df.select_dtypes(include='object').columns\n",
    "        df[numeric_columns] = df[numeric_columns].apply(pd.to_numeric, errors='coerce')\n",
    "\n",
    "        # Guardar el DataFrame modificado en un nuevo archivo Excel\n",
    "        df.to_excel(output_path, index=False)\n",
    "\n",
    "        print(f\"Archivo modificado guardado en: {output_path}\")\n",
    "\n"
   ]
  }
 ],
 "metadata": {
  "kernelspec": {
   "display_name": "Python 3 (ipykernel)",
   "language": "python",
   "name": "python3"
  },
  "language_info": {
   "codemirror_mode": {
    "name": "ipython",
    "version": 3
   },
   "file_extension": ".py",
   "mimetype": "text/x-python",
   "name": "python",
   "nbconvert_exporter": "python",
   "pygments_lexer": "ipython3",
   "version": "3.11.3"
  }
 },
 "nbformat": 4,
 "nbformat_minor": 5
}
