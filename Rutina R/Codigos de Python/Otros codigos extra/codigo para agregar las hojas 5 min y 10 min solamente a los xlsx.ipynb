{
 "cells": [
  {
   "cell_type": "code",
   "execution_count": null,
   "id": "f5d9723f",
   "metadata": {},
   "outputs": [],
   "source": [
    "import os\n",
    "import pandas as pd\n",
    "\n",
    "# Directorio donde se encuentran los archivos\n",
    "directory = r'C:\\Users\\Usuario\\Desktop\\Prueba'\n",
    "\n",
    "# Iterar sobre todos los archivos en el directorio\n",
    "for filename in os.listdir(directory):\n",
    "    # Ignorar archivos temporales de Excel\n",
    "    if filename.endswith('.xlsx') and not filename.startswith('~$'):\n",
    "        file_path = os.path.join(directory, filename)\n",
    "        \n",
    "        # Cargar el archivo Excel\n",
    "        excel_data = pd.ExcelFile(file_path)\n",
    "        \n",
    "        # Verificar si las hojas \"5 min\" o \"10 min\" ya existen\n",
    "        sheet_names = excel_data.sheet_names\n",
    "        sheets_to_add = {}\n",
    "        \n",
    "        if \"5 min\" not in sheet_names:\n",
    "            sheets_to_add[\"5 min\"] = pd.DataFrame()\n",
    "        \n",
    "        if \"10 min\" not in sheet_names:\n",
    "            sheets_to_add[\"10 min\"] = pd.DataFrame()\n",
    "        \n",
    "        # Si hay hojas para agregar, volver a escribir el archivo\n",
    "        if sheets_to_add:\n",
    "            with pd.ExcelWriter(file_path, mode='a', if_sheet_exists='new') as writer:\n",
    "                for sheet_name, df in sheets_to_add.items():\n",
    "                    df.to_excel(writer, sheet_name=sheet_name, index=False)\n",
    "\n",
    "print('Las hojas \"5 min\" y \"10 min\" han sido añadidas si no existían.')\n"
   ]
  }
 ],
 "metadata": {
  "kernelspec": {
   "display_name": "Python 3 (ipykernel)",
   "language": "python",
   "name": "python3"
  },
  "language_info": {
   "codemirror_mode": {
    "name": "ipython",
    "version": 3
   },
   "file_extension": ".py",
   "mimetype": "text/x-python",
   "name": "python",
   "nbconvert_exporter": "python",
   "pygments_lexer": "ipython3",
   "version": "3.11.3"
  }
 },
 "nbformat": 4,
 "nbformat_minor": 5
}
