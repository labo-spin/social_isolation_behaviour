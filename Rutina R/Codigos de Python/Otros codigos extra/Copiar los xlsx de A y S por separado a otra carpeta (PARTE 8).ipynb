{
 "cells": [
  {
   "cell_type": "code",
   "execution_count": null,
   "id": "096db659",
   "metadata": {},
   "outputs": [],
   "source": [
    "import os\n",
    "import re\n",
    "import shutil\n",
    "\n",
    "# Función para copiar archivos según el patrón especificado\n",
    "def copiar_archivos_por_patron(ruta_origen, ruta_destino):\n",
    "    # Crear carpeta de destino si no existe\n",
    "    os.makedirs(ruta_destino, exist_ok=True)\n",
    "\n",
    "    # Listar todos los archivos en la carpeta de origen\n",
    "    archivos = os.listdir(ruta_origen)\n",
    "\n",
    "    # Definir una expresión regular para el patrón deseado\n",
    "    regex = r'diferencias_promedios_filtrado_C(\\d+)_(\\d+)_S_E.*\\.xlsx'\n",
    "    \n",
    "    # Lista para almacenar los archivos que coinciden\n",
    "    archivos_copiados = []\n",
    "\n",
    "    for archivo in archivos:\n",
    "        if re.match(regex, archivo):\n",
    "            # Ruta completa del archivo\n",
    "            ruta_archivo = os.path.join(ruta_origen, archivo)\n",
    "            # Copiar el archivo a la carpeta de destino\n",
    "            shutil.copy(ruta_archivo, ruta_destino)\n",
    "            archivos_copiados.append(archivo)\n",
    "            print(f\"Archivo copiado: {archivo}\")\n",
    "\n",
    "    # Avisar si no se encontraron archivos que coincidan\n",
    "    if not archivos_copiados:\n",
    "        print(\"No se encontraron archivos que coincidan con el patrón especificado.\")\n",
    "\n",
    "# Llama a la función con las rutas de las carpetas\n",
    "carpeta_origen = r'C:\\Users\\Usuario\\Desktop\\Prueba9'\n",
    "carpeta_destino = r'C:\\Users\\Usuario\\Desktop\\Prueba11'\n",
    "copiar_archivos_por_patron(carpeta_origen, carpeta_destino)\n"
   ]
  }
 ],
 "metadata": {
  "kernelspec": {
   "display_name": "Python 3 (ipykernel)",
   "language": "python",
   "name": "python3"
  },
  "language_info": {
   "codemirror_mode": {
    "name": "ipython",
    "version": 3
   },
   "file_extension": ".py",
   "mimetype": "text/x-python",
   "name": "python",
   "nbconvert_exporter": "python",
   "pygments_lexer": "ipython3",
   "version": "3.11.3"
  }
 },
 "nbformat": 4,
 "nbformat_minor": 5
}
